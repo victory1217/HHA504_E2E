{
  "nbformat": 4,
  "nbformat_minor": 0,
  "metadata": {
    "colab": {
      "name": "HHA504_E2E.ipynb",
      "provenance": [],
      "authorship_tag": "ABX9TyPVxJJzsC4dDF3FXREuUSJs",
      "include_colab_link": true
    },
    "kernelspec": {
      "name": "python3",
      "display_name": "Python 3"
    },
    "language_info": {
      "name": "python"
    }
  },
  "cells": [
    {
      "cell_type": "markdown",
      "metadata": {
        "id": "view-in-github",
        "colab_type": "text"
      },
      "source": [
        "<a href=\"https://colab.research.google.com/github/victory1217/HHA504_E2E/blob/main/HHA504_E2E.ipynb\" target=\"_parent\"><img src=\"https://colab.research.google.com/assets/colab-badge.svg\" alt=\"Open In Colab\"/></a>"
      ]
    },
    {
      "cell_type": "markdown",
      "source": [
        "#**HHA 504- E2E Final Assignment** \n",
        "##Victoria Rodriguez Silva \n",
        "## 12/10/2021 "
      ],
      "metadata": {
        "id": "JFa_Qua3M2SU"
      }
    },
    {
      "cell_type": "markdown",
      "source": [
        "\n",
        "## **First step - Set up and Deploy a Virtual Machine** \n",
        "#### 1. Go to https://azure.microsoft.com/en-us/. \n",
        "#### 2. Navigate to the Virtual Machines service (by using search or going to your Azure Portal). \n",
        "#### 3. Select Create + Virtual Machine. \n",
        "#### 4. Create a name, password, and select needed preferences for your machine.\n",
        "#### 5. Review and Create the Virtual Machine.\n",
        "#### **Note, before proceeding with the next steps, go to networking and add the MySQL inbound port rule (port 3306)!**\n",
        "\n",
        "\n",
        "\n"
      ],
      "metadata": {
        "id": "q5Q7yQ3dNG4I"
      }
    },
    {
      "cell_type": "markdown",
      "source": [
        "\n",
        "## **Second Step- Access the Remote Machine via your Terminal**\n",
        "#### 1. Open your terminal, type ssh (username for your instance)@(ip address for your instance) - the IP Address for your machine can be found on the overview page.\n",
        "#### 2. Then, enter in the password created for the instance when prompted.\n",
        "#### 3. Once you enter the remote machine (name of virtual machine will appear in green letters), type \"sudo apt-get update\".\n",
        "#### 4. After your new machine has been updated, type \"sudo apt install mysql-server mysql-client\" to install mysql on your remote machine. \n",
        "#### 5. Once mysql has been installed, type \"sudo mysql\" to enter into the mysql application via the terminal. \n",
        "#### 6. **You are now in mysql!** Now, type \"show databases\" to see what data you currently have. \n",
        "#### 7. You will then create a new mysql user to connect with, by typing \"CREATE USER ‘USERNAME'@'%' IDENTIFIED BY ‘PASSWORD’; \n",
        "#### 8. To grant this new user privileges, you will type \"GRANT ALL PRIVILEGES ON *.* TO 'USERNAME'@'%' WITH GRANT OPTION; - This username is solely for the mysql user and should not be the username created for the instance. \n",
        "#### 9. Test to see if the new user was created successfully by typing \"mysql -u 'USERNAME' -p\". Enter password when prompted. \n",
        "#### 10. Create a new database by typing \"create database NAME;\" and confirm the database was made by typing \"show databases\" - Note, that this is the name you are giving the database that will be located within mysql. "
      ],
      "metadata": {
        "id": "uzSenlh9OMGs"
      }
    },
    {
      "cell_type": "markdown",
      "source": [
        "\n",
        "## **Third Step - Connect to the SQL Instance using Python / Jupyter Notebook**\n",
        "#### 1. Go to Spyder (Python 3.8) or any Jupyter Notebook of choice \n",
        "#### 2. Type the following code. "
      ],
      "metadata": {
        "id": "90O_bfbFQhh7"
      }
    },
    {
      "cell_type": "code",
      "source": [
        "## Import needed packages \n",
        "\n",
        "from sqlalchemy import create_engine\n",
        "import sqlalchemy\n",
        "import pandas as pd \n",
        "\n",
        "##Connect to SQL instance \n",
        "\n",
        "MYSQL_HOSTNAME = 'IP ADDRESS OF INSTANCE' \n",
        "MYSQL_USER = 'USERNAME'\n",
        "MYSQL_PASSWORD = 'PASSWORD'\n",
        "MYSQL_DATABASE = 'DATABASE NAME '\n",
        "\n",
        "connection_string = f'mysql+pymysql://{MYSQL_USER}:{MYSQL_PASSWORD}@{MYSQL_HOSTNAME}/{MYSQL_DATABASE}'\n",
        "engine = create_engine(connection_string)\n",
        "\n",
        "## Load CSV File \n",
        "\n",
        "csvfile = pd.read_csv('/Users/victoria_rodriguez/Downloads/H1N1_Flu_Vaccines.csv')\n",
        "csvfile.to_sql('H1N1_Flu_Vaccines', con=engine, if_exists ='append') \n",
        "##Note - checked on MySQL Workbench to confirm that the table was loaded"
      ],
      "metadata": {
        "id": "VOCEzmYDQ6TW"
      },
      "execution_count": null,
      "outputs": []
    },
    {
      "cell_type": "markdown",
      "source": [
        "\n",
        "## **Fourth Step- Fix Connection Error** \n",
        "#### 1. After running this code in Jupyter Notebook, go back to your terminal and type \"sudo nano /etc/mysql/mysql.conf.d/mysqld.cnf\" to fix configurations for your sql instance. \n",
        "#### 2. Once this has been completed, restart mysql within the virtual machine by typing \"/etc/init.d/mysql restart\" \n",
        "#### 3. Re-run the code in your Jupyter Notebook and the csv file will be found within the created database as a table. "
      ],
      "metadata": {
        "id": "22pGaxWCRfEv"
      }
    },
    {
      "cell_type": "markdown",
      "source": [
        "\n",
        "## **Fifth Step- Create a logical \"cold\" backup of SQL file** \n",
        "#### 1. Create a second instance (another virutal machine) using Microsoft Azure's Virtual Machine service - use the steps found within step 1!  \n",
        "#### 2. After all of the same configurations and port rules have been set, log in to be sure that the instance is running - ssh USERNAME@IP ADDRESS (for new machine) \n",
        "#### 3. Go back to the host instance (first virtual machine created) and type \"sudo mysqldump -- all databases> dump.sql\".\n",
        "#### 4. Within the first instance, type \"ls\" to confirm that the file has been saved. \n",
        "#### 5. Log in to the second instance (newly created virtual machine). To create a copy of the sql dump file, type \"scp dump.sql USERNAME@2ND IP ADDRESS:/home/USERNAME \n",
        "#### **Note, for easy management, the same username and password were used for both of these virtual machines!** - you do not have to do the same. \n",
        "#### 6. Push enter, type in the created password, and type \"ls\" to confirm that the backup sql file was created in the second instance. "
      ],
      "metadata": {
        "id": "Qw3vh2X_SQu0"
      }
    },
    {
      "cell_type": "markdown",
      "source": [
        "\n",
        "## **Sixth Step - Create a Trigger**\n",
        "#### 1. For the assigment, this is the desired trigger we were asked to create. \n",
        "#### 2. Verify the following code. "
      ],
      "metadata": {
        "id": "ck7MeawaUDy_"
      }
    },
    {
      "cell_type": "code",
      "source": [
        "## Create a Trigger \n",
        "\n",
        "SELECT * FROM H1N1_Flu_Vaccines LIMIT 15;\n",
        "DELIMITER $$\n",
        "CREATE TRIGGER H1N1_concern_trigger BEFORE INSERT ON H1N1_Flu_Vaccines\n",
        "FOR EACH ROW \n",
        "BEGIN IF NEW.alert <=3 THEN\n",
        "SIGNAL SQLSTATE '45000'\n",
        "SET MESSAGE_TEXT = 'H1N1 concern should be a numerical value between 0 and 3. Please try again.'\n",
        ";END IF;\n",
        "END; $$\n"
      ],
      "metadata": {
        "id": "UyWqdSVXUjOv"
      },
      "execution_count": null,
      "outputs": []
    },
    {
      "cell_type": "markdown",
      "source": [
        "## Thank you! "
      ],
      "metadata": {
        "id": "4rFylqX-XqwK"
      }
    }
  ]
}